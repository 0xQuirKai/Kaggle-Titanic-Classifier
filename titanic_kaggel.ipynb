{
  "nbformat": 4,
  "nbformat_minor": 0,
  "metadata": {
    "colab": {
      "provenance": [],
      "authorship_tag": "ABX9TyOvdkGt1oq751xEFD1XdH1o",
      "include_colab_link": true
    },
    "kernelspec": {
      "name": "python3",
      "display_name": "Python 3"
    },
    "language_info": {
      "name": "python"
    }
  },
  "cells": [
    {
      "cell_type": "markdown",
      "metadata": {
        "id": "view-in-github",
        "colab_type": "text"
      },
      "source": [
        "<a href=\"https://colab.research.google.com/github/0xQuirkai/Kaggle-Titanic-Classifier/blob/main/titanic_kaggel.ipynb\" target=\"_parent\"><img src=\"https://colab.research.google.com/assets/colab-badge.svg\" alt=\"Open In Colab\"/></a>"
      ]
    },
    {
      "cell_type": "code",
      "execution_count": 1,
      "metadata": {
        "id": "GAfw_NDyG4-M"
      },
      "outputs": [],
      "source": [
        "import pandas as pd\n",
        "import numpy as np\n",
        "import tensorflow as tf\n",
        "from sklearn.model_selection import train_test_split\n",
        "from sklearn.preprocessing import StandardScaler\n",
        "from sklearn.metrics import accuracy_score\n",
        "from tensorflow.keras.optimizers import Adam\n",
        "from tensorflow.keras.callbacks import EarlyStopping\n"
      ]
    },
    {
      "cell_type": "code",
      "source": [
        "test_data = pd.read_csv('test.csv')\n",
        "data = pd.read_csv('train.csv')\n",
        "gender_submission = pd.read_csv('gender_submission.csv')\n"
      ],
      "metadata": {
        "id": "kjukojiKHU87"
      },
      "execution_count": 2,
      "outputs": []
    },
    {
      "cell_type": "markdown",
      "source": [
        "# Preprocessing the DATA\n"
      ],
      "metadata": {
        "id": "qV0IXkPz8nEH"
      }
    },
    {
      "cell_type": "code",
      "source": [
        "def preprocess_data(data):\n",
        "    data = data[['Pclass', 'Sex', 'Age', 'SibSp', 'Parch', 'Fare', 'Embarked', 'Survived']]\n",
        "    data['Age']=data['Age'].fillna(data['Age'].mean())\n",
        "    data['Sex'] = data['Sex'].map({'male': 0, 'female': 1})\n",
        "    data = pd.get_dummies(data, columns=['Embarked'], drop_first=True)\n",
        "    return data\n",
        "\n",
        "train = preprocess_data(data)\n",
        "\n",
        "X, X_test ,Y,y_test = train_test_split(train,train['Survived'], test_size=0.2, random_state=42)\n"
      ],
      "metadata": {
        "id": "aqe5yQaASPFn",
        "colab": {
          "base_uri": "https://localhost:8080/"
        },
        "outputId": "e64b1ef1-8c2a-43ad-9a1b-891637e987ff"
      },
      "execution_count": 3,
      "outputs": [
        {
          "output_type": "stream",
          "name": "stderr",
          "text": [
            "<ipython-input-3-7388b13a6758>:3: SettingWithCopyWarning: \n",
            "A value is trying to be set on a copy of a slice from a DataFrame.\n",
            "Try using .loc[row_indexer,col_indexer] = value instead\n",
            "\n",
            "See the caveats in the documentation: https://pandas.pydata.org/pandas-docs/stable/user_guide/indexing.html#returning-a-view-versus-a-copy\n",
            "  data['Age']=data['Age'].fillna(data['Age'].mean())\n",
            "<ipython-input-3-7388b13a6758>:4: SettingWithCopyWarning: \n",
            "A value is trying to be set on a copy of a slice from a DataFrame.\n",
            "Try using .loc[row_indexer,col_indexer] = value instead\n",
            "\n",
            "See the caveats in the documentation: https://pandas.pydata.org/pandas-docs/stable/user_guide/indexing.html#returning-a-view-versus-a-copy\n",
            "  data['Sex'] = data['Sex'].map({'male': 0, 'female': 1})\n"
          ]
        }
      ]
    },
    {
      "cell_type": "markdown",
      "source": [
        "## Standardize features by removing the mean and scaling to unit variance.\n",
        "\n"
      ],
      "metadata": {
        "id": "S_iNv2Lh8ztM"
      }
    },
    {
      "cell_type": "code",
      "source": [
        "\n",
        "sc = StandardScaler()\n",
        "X = sc.fit_transform(X)\n"
      ],
      "metadata": {
        "id": "q9pkQpnRa-SL"
      },
      "execution_count": 4,
      "outputs": []
    },
    {
      "cell_type": "markdown",
      "source": [
        "# Model"
      ],
      "metadata": {
        "id": "mGBnZW-X9Ptb"
      }
    },
    {
      "cell_type": "code",
      "source": [
        "\n",
        "\n",
        "\n",
        "model2 = tf.keras.Sequential([\n",
        "  tf.keras.layers.Dense(128,activation='relu',input_shape=(X.shape[1],)) ,\n",
        "  tf.keras.layers.Dropout(0.5),\n",
        "    tf.keras.layers.Dense(64,activation='relu') ,\n",
        "  tf.keras.layers.Dense(1,activation='sigmoid')\n",
        "\n",
        "])\n",
        "\n",
        "\n",
        "\n",
        "# Define the EarlyStopping callback\n",
        "early_stopping = EarlyStopping(monitor='val_accuracy', patience=5, restore_best_weights=True)\n",
        "\n",
        "# Assuming you have a model named 'model' and you are training it\n",
        "\n",
        "# Compile the model\n",
        "model2.compile(optimizer=Adam(learning_rate=0.01), loss='binary_crossentropy', metrics=['accuracy'])\n",
        "\n",
        "# Train the model\n",
        "history = model2.fit(X, Y, epochs=300, validation_data=(X_test, y_test),verbose=0,callbacks=[early_stopping])\n",
        "\n",
        "#Evaluate the model on the test set\n",
        "y_pred = (model2.predict(X_test) > 0.5).astype(int)\n",
        "accuracy = accuracy_score(y_test, y_pred)\n",
        "print(f'Test Accuracy: {accuracy}')"
      ],
      "metadata": {
        "colab": {
          "base_uri": "https://localhost:8080/"
        },
        "id": "r1-zXb6h79Jn",
        "outputId": "2d6810dc-379c-40b1-98d9-52b622c02b1b"
      },
      "execution_count": 5,
      "outputs": [
        {
          "output_type": "stream",
          "name": "stdout",
          "text": [
            "6/6 [==============================] - 0s 6ms/step\n",
            "Test Accuracy: 0.8491620111731844\n"
          ]
        }
      ]
    },
    {
      "cell_type": "code",
      "source": [
        "\n",
        "# Combine features with passenger IDs\n",
        "test_data_with_labels = pd.merge(test_data, gender_submission, on='PassengerId', how='outer')\n",
        "\n",
        "X_test_new = preprocess_data(test_data_with_labels)\n",
        "\n",
        "# Make predictions on the preprocessed test data\n",
        "predictions = model2.predict(X_test_new)\n",
        "\n",
        "# Convert predictions to binary labels using a threshold (e.g., 0.5)\n",
        "binary_predictions = (predictions > 0.5).astype(int)\n",
        "\n",
        "# Create a submission DataFrame\n",
        "submission_df = pd.DataFrame({'PassengerId': test_data_with_labels['PassengerId'], 'Survived': binary_predictions.flatten()})\n",
        "\n",
        "# Save the submission file\n",
        "submission_df.to_csv('my_submission.csv', index=False)\n"
      ],
      "metadata": {
        "colab": {
          "base_uri": "https://localhost:8080/"
        },
        "id": "uHke4mIkqUZE",
        "outputId": "5ee24f92-144f-406c-8d37-b73ec47616e3"
      },
      "execution_count": 6,
      "outputs": [
        {
          "output_type": "stream",
          "name": "stderr",
          "text": [
            "<ipython-input-3-7388b13a6758>:3: SettingWithCopyWarning: \n",
            "A value is trying to be set on a copy of a slice from a DataFrame.\n",
            "Try using .loc[row_indexer,col_indexer] = value instead\n",
            "\n",
            "See the caveats in the documentation: https://pandas.pydata.org/pandas-docs/stable/user_guide/indexing.html#returning-a-view-versus-a-copy\n",
            "  data['Age']=data['Age'].fillna(data['Age'].mean())\n",
            "<ipython-input-3-7388b13a6758>:4: SettingWithCopyWarning: \n",
            "A value is trying to be set on a copy of a slice from a DataFrame.\n",
            "Try using .loc[row_indexer,col_indexer] = value instead\n",
            "\n",
            "See the caveats in the documentation: https://pandas.pydata.org/pandas-docs/stable/user_guide/indexing.html#returning-a-view-versus-a-copy\n",
            "  data['Sex'] = data['Sex'].map({'male': 0, 'female': 1})\n"
          ]
        },
        {
          "output_type": "stream",
          "name": "stdout",
          "text": [
            "14/14 [==============================] - 0s 2ms/step\n"
          ]
        }
      ]
    },
    {
      "cell_type": "code",
      "source": [
        "\n",
        "# Read and display the contents\n",
        "my_submission = pd.read_csv('my_submission.csv')\n",
        "\n",
        "# Merge DataFrames on PassengerId\n",
        "merged_df = pd.merge(gender_submission, my_submission, on='PassengerId', suffixes=('_actual', '_predicted'))\n",
        "# Calculate accuracy\n",
        "accuracy = (merged_df['Survived_actual'] == merged_df['Survived_predicted']).mean()\n",
        "\n",
        "print(f\"Accuracy: {accuracy * 100:.2f}%\")\n"
      ],
      "metadata": {
        "colab": {
          "base_uri": "https://localhost:8080/"
        },
        "id": "xp98a1USrBg7",
        "outputId": "c1433fbd-abb9-499b-94aa-449220c57cd4"
      },
      "execution_count": 7,
      "outputs": [
        {
          "output_type": "stream",
          "name": "stdout",
          "text": [
            "Accuracy: 76.32%\n"
          ]
        }
      ]
    },
    {
      "cell_type": "code",
      "source": [
        "from google.colab import files\n",
        "\n",
        "# Specify the file path\n",
        "file_path = 'my_submission.csv'\n",
        "\n",
        "# Download the file\n",
        "files.download(file_path)\n"
      ],
      "metadata": {
        "colab": {
          "base_uri": "https://localhost:8080/",
          "height": 17
        },
        "id": "kSlVEr67v2PB",
        "outputId": "87fc617c-4bcb-4dc2-a140-9fb5bacff2c3"
      },
      "execution_count": 8,
      "outputs": [
        {
          "output_type": "display_data",
          "data": {
            "text/plain": [
              "<IPython.core.display.Javascript object>"
            ],
            "application/javascript": [
              "\n",
              "    async function download(id, filename, size) {\n",
              "      if (!google.colab.kernel.accessAllowed) {\n",
              "        return;\n",
              "      }\n",
              "      const div = document.createElement('div');\n",
              "      const label = document.createElement('label');\n",
              "      label.textContent = `Downloading \"${filename}\": `;\n",
              "      div.appendChild(label);\n",
              "      const progress = document.createElement('progress');\n",
              "      progress.max = size;\n",
              "      div.appendChild(progress);\n",
              "      document.body.appendChild(div);\n",
              "\n",
              "      const buffers = [];\n",
              "      let downloaded = 0;\n",
              "\n",
              "      const channel = await google.colab.kernel.comms.open(id);\n",
              "      // Send a message to notify the kernel that we're ready.\n",
              "      channel.send({})\n",
              "\n",
              "      for await (const message of channel.messages) {\n",
              "        // Send a message to notify the kernel that we're ready.\n",
              "        channel.send({})\n",
              "        if (message.buffers) {\n",
              "          for (const buffer of message.buffers) {\n",
              "            buffers.push(buffer);\n",
              "            downloaded += buffer.byteLength;\n",
              "            progress.value = downloaded;\n",
              "          }\n",
              "        }\n",
              "      }\n",
              "      const blob = new Blob(buffers, {type: 'application/binary'});\n",
              "      const a = document.createElement('a');\n",
              "      a.href = window.URL.createObjectURL(blob);\n",
              "      a.download = filename;\n",
              "      div.appendChild(a);\n",
              "      a.click();\n",
              "      div.remove();\n",
              "    }\n",
              "  "
            ]
          },
          "metadata": {}
        },
        {
          "output_type": "display_data",
          "data": {
            "text/plain": [
              "<IPython.core.display.Javascript object>"
            ],
            "application/javascript": [
              "download(\"download_aee9dcdb-9497-4211-a794-870b5f11b868\", \"my_submission.csv\", 2839)"
            ]
          },
          "metadata": {}
        }
      ]
    }
  ]
}